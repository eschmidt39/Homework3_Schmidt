{
  "nbformat": 4,
  "nbformat_minor": 0,
  "metadata": {
    "colab": {
      "provenance": [],
      "authorship_tag": "ABX9TyPmr6JYS4sgA18aWaV9lrSv",
      "include_colab_link": true
    },
    "kernelspec": {
      "name": "python3",
      "display_name": "Python 3"
    },
    "language_info": {
      "name": "python"
    }
  },
  "cells": [
    {
      "cell_type": "markdown",
      "metadata": {
        "id": "view-in-github",
        "colab_type": "text"
      },
      "source": [
        "<a href=\"https://colab.research.google.com/github/eschmidt39/Homework3_Schmidt/blob/main/FWE458_Homework3.ipynb\" target=\"_parent\"><img src=\"https://colab.research.google.com/assets/colab-badge.svg\" alt=\"Open In Colab\"/></a>"
      ]
    },
    {
      "cell_type": "code",
      "execution_count": 2,
      "metadata": {
        "colab": {
          "base_uri": "https://localhost:8080/"
        },
        "id": "RPBx827OR1sv",
        "outputId": "bccf3f8f-e586-49d6-d0b2-6e8ca09bad3b"
      },
      "outputs": [
        {
          "output_type": "stream",
          "name": "stdout",
          "text": [
            "Mounted at /content/drive/\n",
            "     Year  Month  Decimal_date  Monthly_average  deseasonalized  numofdays  \\\n",
            "0    1958      3     1958.2027           315.70          314.43         -1   \n",
            "1    1958      4     1958.2877           317.45          315.16         -1   \n",
            "2    1958      5     1958.3699           317.51          314.71         -1   \n",
            "3    1958      6     1958.4548           317.24          315.14         -1   \n",
            "4    1958      7     1958.5370           315.86          315.18         -1   \n",
            "..    ...    ...           ...              ...             ...        ...   \n",
            "762  2021      9     2021.7083           413.30          416.90         27   \n",
            "763  2021     10     2021.7917           413.93          417.30         29   \n",
            "764  2021     11     2021.8750           415.01          417.07         30   \n",
            "765  2021     12     2021.9583           416.71          417.44         28   \n",
            "766  2022      1     2022.0417           418.19          417.87         29   \n",
            "\n",
            "     stdofdays      site  \n",
            "0        -9.99  MaunaLoa  \n",
            "1        -9.99  MaunaLoa  \n",
            "2        -9.99  MaunaLoa  \n",
            "3        -9.99  MaunaLoa  \n",
            "4        -9.99  MaunaLoa  \n",
            "..         ...       ...  \n",
            "762       0.29  MaunaLoa  \n",
            "763       0.35  MaunaLoa  \n",
            "764       0.36  MaunaLoa  \n",
            "765       0.48  MaunaLoa  \n",
            "766       0.75  MaunaLoa  \n",
            "\n",
            "[767 rows x 8 columns]\n"
          ]
        }
      ],
      "source": [
        "import pandas as pd\n",
        "\n",
        "#load Mauna Loa CO2.csv data set from drive\n",
        "from google.colab import drive\n",
        "drive.mount('/content/drive/')\n",
        "\n",
        "filedir='/content/drive/MyDrive/FWE 458 - Envir. Data Sci./2-4 Lecture/'\n",
        "fname=filedir+'MaunaLoaCO2_monthly_sitename.csv'\n",
        "\n",
        "df=pd.read_csv(fname)\n",
        "print(df)"
      ]
    },
    {
      "cell_type": "code",
      "source": [
        "#exclude data from 1958 and 2022\n",
        "\n",
        "years_df = df[(df[\"Year\"] != 2022) & (df[\"Year\"] != 1958)]\n",
        "  #filter_df = df execpt for (!= - not equal to) 2022 and 1958\n",
        "\n",
        "#remove rows with invalid/negative numofdays or stdofdays (must do it separately because they are different types, int vs. dec)\n",
        "numfilt_df = years_df[(years_df[\"numofdays\"] >= 0)]\n",
        "filter_df = numfilt_df[(numfilt_df[\"stdofdays\"] >= 0)]\n",
        "\n",
        "print(filter_df)"
      ],
      "metadata": {
        "colab": {
          "base_uri": "https://localhost:8080/"
        },
        "id": "h4wzuOaRT0JX",
        "outputId": "10e2e9a8-1096-46f9-d803-ed1dc75aae25"
      },
      "execution_count": 3,
      "outputs": [
        {
          "output_type": "stream",
          "name": "stdout",
          "text": [
            "     Year  Month  Decimal_date  Monthly_average  deseasonalized  numofdays  \\\n",
            "194  1974      5     1974.3750           333.19          330.22         13   \n",
            "195  1974      6     1974.4583           332.20          329.78         25   \n",
            "196  1974      7     1974.5417           331.07          330.21         24   \n",
            "197  1974      8     1974.6250           329.15          330.54         26   \n",
            "198  1974      9     1974.7083           327.33          330.44         22   \n",
            "..    ...    ...           ...              ...             ...        ...   \n",
            "761  2021      8     2021.6250           414.47          416.49         26   \n",
            "762  2021      9     2021.7083           413.30          416.90         27   \n",
            "763  2021     10     2021.7917           413.93          417.30         29   \n",
            "764  2021     11     2021.8750           415.01          417.07         30   \n",
            "765  2021     12     2021.9583           416.71          417.44         28   \n",
            "\n",
            "     stdofdays      site  \n",
            "194       0.31  MaunaLoa  \n",
            "195       0.37  MaunaLoa  \n",
            "196       0.24  MaunaLoa  \n",
            "197       0.31  MaunaLoa  \n",
            "198       0.47  MaunaLoa  \n",
            "..         ...       ...  \n",
            "761       0.72  MaunaLoa  \n",
            "762       0.29  MaunaLoa  \n",
            "763       0.35  MaunaLoa  \n",
            "764       0.36  MaunaLoa  \n",
            "765       0.48  MaunaLoa  \n",
            "\n",
            "[570 rows x 8 columns]\n"
          ]
        }
      ]
    },
    {
      "cell_type": "code",
      "source": [
        "#calculate annual stats\n",
        "\n",
        "#made new data frame to hold all stats\n",
        "annual_stats=pd.DataFrame()\n",
        "\n",
        "#group data by the year, take the mean of Monthly_average (for each year), and set it in the annual stats DF called \"annual_average\"\n",
        "annual_stats[\"annual_average\"] = filter_df.groupby(\"Year\")[\"Monthly_average\"].mean()\n",
        "#group data by year, take mean of \"deseasonalized\" for each year, and set it in annual stats DF called \"deseasonalized_annual_average\"\n",
        "annual_stats[\"deseasonalized_annual_average\"] = filter_df.groupby(\"Year\")[\"deseasonalized\"].mean()\n",
        "#group data by year, take std of \"Monthly_average\" for each year, and put it in annual stats DF as \"std_of_months\"\n",
        "annual_stats[\"std_of_months\"] = filter_df.groupby(\"Year\")[\"Monthly_average\"].std()\n",
        "\n",
        "#didn't reset index incase the years (or whatever you are grouping by) are out of order, this way it puts the correct year's stats together\n",
        "\n",
        "print(annual_stats)\n"
      ],
      "metadata": {
        "colab": {
          "base_uri": "https://localhost:8080/"
        },
        "id": "F-fk0cCm8hLK",
        "outputId": "084539f4-35b8-478f-b49f-8df6c3a20ab9"
      },
      "execution_count": 4,
      "outputs": [
        {
          "output_type": "stream",
          "name": "stdout",
          "text": [
            "      annual_average  deseasonalized_annual_average  std_of_months\n",
            "Year                                                              \n",
            "1974      329.763750                     330.346250       2.203789\n",
            "1975      331.160909                     331.072727       1.943751\n",
            "1976      332.026667                     332.028333       2.085610\n",
            "1977      333.843333                     333.841667       1.931882\n",
            "1978      335.415000                     335.413333       1.995014\n",
            "1979      336.835833                     336.835833       1.837639\n",
            "1980      338.762500                     338.765000       1.871271\n",
            "1981      340.119167                     340.120000       2.105989\n",
            "1982      341.479167                     341.476667       2.151386\n",
            "1983      343.152500                     343.152500       1.936093\n",
            "1984      344.639091                     344.874545       1.963520\n",
            "1985      346.351667                     346.350833       1.996983\n",
            "1986      347.608333                     347.608333       1.834358\n",
            "1987      349.312500                     349.313333       1.800430\n",
            "1988      351.690833                     351.690833       1.780860\n",
            "1989      353.205000                     353.205000       1.978569\n",
            "1990      354.453333                     354.451667       1.892379\n",
            "1991      355.704167                     355.703333       2.343313\n",
            "1992      356.544167                     356.545833       2.304432\n",
            "1993      357.215833                     357.214167       2.033597\n",
            "1994      358.959167                     358.960000       1.916656\n",
            "1995      360.968333                     360.966667       1.953672\n",
            "1996      362.743333                     362.743333       1.960669\n",
            "1997      363.877500                     363.876667       2.008578\n",
            "1998      366.840000                     366.839167       1.790520\n",
            "1999      368.540000                     368.540833       2.080350\n",
            "2000      369.706667                     369.707500       1.695434\n",
            "2001      371.319167                     371.318333       1.893772\n",
            "2002      373.452500                     373.452500       1.735407\n",
            "2003      375.983333                     375.983333       1.840836\n",
            "2004      377.698333                     377.697500       2.110062\n",
            "2005      379.983333                     379.982500       1.987915\n",
            "2006      382.090833                     382.089167       2.027064\n",
            "2007      384.025000                     384.024167       1.958587\n",
            "2008      385.830833                     385.830000       1.745209\n",
            "2009      387.643333                     387.643333       1.876643\n",
            "2010      390.101667                     390.101667       2.027290\n",
            "2011      391.850833                     391.850833       1.737958\n",
            "2012      394.055833                     394.055833       1.823775\n",
            "2013      396.737500                     396.738333       1.956231\n",
            "2014      398.870833                     398.870000       2.062093\n",
            "2015      401.012500                     401.012500       1.967907\n",
            "2016      404.412500                     404.414167       2.208719\n",
            "2017      406.757500                     406.757500       2.030943\n",
            "2018      408.715000                     408.715000       1.787718\n",
            "2019      411.654167                     411.655833       1.940963\n",
            "2020      414.238333                     414.235833       1.880947\n",
            "2021      416.450833                     416.450000       2.025027\n"
          ]
        }
      ]
    },
    {
      "cell_type": "code",
      "source": [
        "#classify annual CO2 into levels: low<350, 350<moderate>400, high>400\n",
        "\n",
        "def categorize_co2(value):\n",
        "  if value < 350:\n",
        "    return \"Low\"\n",
        "  elif value < 400:\n",
        "    return \"Moderate\"\n",
        "  else:\n",
        "    return \"High\"\n",
        "\n",
        "#add column to annual_stats\n",
        "annual_stats[\"CO2_category\"] = annual_stats[\"annual_average\"].apply(categorize_co2)\n",
        "\n",
        "#didn't reset index until now to make sure that the correct info goes into the correct rows (doesn't get switched around by changing the index)\n",
        "annual_stats = annual_stats.reset_index()\n",
        "\n",
        "print(annual_stats)"
      ],
      "metadata": {
        "colab": {
          "base_uri": "https://localhost:8080/"
        },
        "id": "nGAOBLpf_LlA",
        "outputId": "fda88080-8506-40ba-f93b-605a089a1697"
      },
      "execution_count": 5,
      "outputs": [
        {
          "output_type": "stream",
          "name": "stdout",
          "text": [
            "    Year  annual_average  deseasonalized_annual_average  std_of_months  \\\n",
            "0   1974      329.763750                     330.346250       2.203789   \n",
            "1   1975      331.160909                     331.072727       1.943751   \n",
            "2   1976      332.026667                     332.028333       2.085610   \n",
            "3   1977      333.843333                     333.841667       1.931882   \n",
            "4   1978      335.415000                     335.413333       1.995014   \n",
            "5   1979      336.835833                     336.835833       1.837639   \n",
            "6   1980      338.762500                     338.765000       1.871271   \n",
            "7   1981      340.119167                     340.120000       2.105989   \n",
            "8   1982      341.479167                     341.476667       2.151386   \n",
            "9   1983      343.152500                     343.152500       1.936093   \n",
            "10  1984      344.639091                     344.874545       1.963520   \n",
            "11  1985      346.351667                     346.350833       1.996983   \n",
            "12  1986      347.608333                     347.608333       1.834358   \n",
            "13  1987      349.312500                     349.313333       1.800430   \n",
            "14  1988      351.690833                     351.690833       1.780860   \n",
            "15  1989      353.205000                     353.205000       1.978569   \n",
            "16  1990      354.453333                     354.451667       1.892379   \n",
            "17  1991      355.704167                     355.703333       2.343313   \n",
            "18  1992      356.544167                     356.545833       2.304432   \n",
            "19  1993      357.215833                     357.214167       2.033597   \n",
            "20  1994      358.959167                     358.960000       1.916656   \n",
            "21  1995      360.968333                     360.966667       1.953672   \n",
            "22  1996      362.743333                     362.743333       1.960669   \n",
            "23  1997      363.877500                     363.876667       2.008578   \n",
            "24  1998      366.840000                     366.839167       1.790520   \n",
            "25  1999      368.540000                     368.540833       2.080350   \n",
            "26  2000      369.706667                     369.707500       1.695434   \n",
            "27  2001      371.319167                     371.318333       1.893772   \n",
            "28  2002      373.452500                     373.452500       1.735407   \n",
            "29  2003      375.983333                     375.983333       1.840836   \n",
            "30  2004      377.698333                     377.697500       2.110062   \n",
            "31  2005      379.983333                     379.982500       1.987915   \n",
            "32  2006      382.090833                     382.089167       2.027064   \n",
            "33  2007      384.025000                     384.024167       1.958587   \n",
            "34  2008      385.830833                     385.830000       1.745209   \n",
            "35  2009      387.643333                     387.643333       1.876643   \n",
            "36  2010      390.101667                     390.101667       2.027290   \n",
            "37  2011      391.850833                     391.850833       1.737958   \n",
            "38  2012      394.055833                     394.055833       1.823775   \n",
            "39  2013      396.737500                     396.738333       1.956231   \n",
            "40  2014      398.870833                     398.870000       2.062093   \n",
            "41  2015      401.012500                     401.012500       1.967907   \n",
            "42  2016      404.412500                     404.414167       2.208719   \n",
            "43  2017      406.757500                     406.757500       2.030943   \n",
            "44  2018      408.715000                     408.715000       1.787718   \n",
            "45  2019      411.654167                     411.655833       1.940963   \n",
            "46  2020      414.238333                     414.235833       1.880947   \n",
            "47  2021      416.450833                     416.450000       2.025027   \n",
            "\n",
            "   CO2_category  \n",
            "0           Low  \n",
            "1           Low  \n",
            "2           Low  \n",
            "3           Low  \n",
            "4           Low  \n",
            "5           Low  \n",
            "6           Low  \n",
            "7           Low  \n",
            "8           Low  \n",
            "9           Low  \n",
            "10          Low  \n",
            "11          Low  \n",
            "12          Low  \n",
            "13          Low  \n",
            "14     Moderate  \n",
            "15     Moderate  \n",
            "16     Moderate  \n",
            "17     Moderate  \n",
            "18     Moderate  \n",
            "19     Moderate  \n",
            "20     Moderate  \n",
            "21     Moderate  \n",
            "22     Moderate  \n",
            "23     Moderate  \n",
            "24     Moderate  \n",
            "25     Moderate  \n",
            "26     Moderate  \n",
            "27     Moderate  \n",
            "28     Moderate  \n",
            "29     Moderate  \n",
            "30     Moderate  \n",
            "31     Moderate  \n",
            "32     Moderate  \n",
            "33     Moderate  \n",
            "34     Moderate  \n",
            "35     Moderate  \n",
            "36     Moderate  \n",
            "37     Moderate  \n",
            "38     Moderate  \n",
            "39     Moderate  \n",
            "40     Moderate  \n",
            "41         High  \n",
            "42         High  \n",
            "43         High  \n",
            "44         High  \n",
            "45         High  \n",
            "46         High  \n",
            "47         High  \n"
          ]
        }
      ]
    },
    {
      "cell_type": "code",
      "source": [
        "#save Annual_Stats as .csv\n",
        "annual_stats.to_csv('Annual_Stats.csv')"
      ],
      "metadata": {
        "id": "f7jaeH9VVr2A"
      },
      "execution_count": 12,
      "outputs": []
    }
  ]
}